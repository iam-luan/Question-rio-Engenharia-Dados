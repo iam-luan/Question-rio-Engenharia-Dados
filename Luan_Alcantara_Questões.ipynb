{
  "nbformat": 4,
  "nbformat_minor": 0,
  "metadata": {
    "colab": {
      "provenance": [],
      "generative_ai_disabled": true
    },
    "kernelspec": {
      "name": "python3",
      "display_name": "Python 3"
    },
    "language_info": {
      "name": "python"
    }
  },
  "cells": [
    {
      "cell_type": "markdown",
      "source": [
        "Importe as bibliotecas que você irá utilizar para todas as questões"
      ],
      "metadata": {
        "id": "XW2yGWlEgsim"
      }
    },
    {
      "cell_type": "code",
      "source": [
        "# Importação de bibliotecas gerais\n",
        "import pandas as pd\n",
        "import numpy as np\n"
      ],
      "metadata": {
        "id": "iPgEseMeg2vv"
      },
      "execution_count": 9,
      "outputs": []
    },
    {
      "cell_type": "markdown",
      "source": [
        "**Questão 1:**\n",
        "\n",
        "Crie uma função genérica para retornar os números pares de um array."
      ],
      "metadata": {
        "id": "Bpqu5cx3cj_J"
      }
    },
    {
      "cell_type": "code",
      "source": [
        "def numeros_pares(array):\n",
        "    return [n for n in array if n % 2 == 0]\n",
        "\n",
        "numeros = [1, 2, 3, 4, 5, 6]\n",
        "print(numeros_pares(numeros))  # [2, 4, 6]"
      ],
      "metadata": {
        "id": "LNXxYc1oc0Xh",
        "colab": {
          "base_uri": "https://localhost:8080/"
        },
        "outputId": "f5f09d94-e141-4180-8937-1ee7b44ba6fe"
      },
      "execution_count": 10,
      "outputs": [
        {
          "output_type": "stream",
          "name": "stdout",
          "text": [
            "[2, 4, 6]\n"
          ]
        }
      ]
    },
    {
      "cell_type": "markdown",
      "source": [
        "**Questão 2:**\n",
        "\n",
        "Crie o dataframe abaixo, filtre quem possui mais de 25 anos e tire a média dos salários\n",
        "\n",
        "![image.png](data:image/png;base64,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)\n"
      ],
      "metadata": {
        "id": "NKV_P0-Qc5T1"
      }
    },
    {
      "cell_type": "code",
      "source": [
        "import pandas as pd\n",
        "\n",
        "# Cria o DataFrame\n",
        "dados = {\n",
        "    'nome': ['Ana', 'Bruno', 'Carlos', 'Daniela', 'Eduardo'],\n",
        "    'idade': [23, 29, 35, 27, 22],\n",
        "    'salario': [2500, 4200, 5300, 3100, 2000]\n",
        "}\n",
        "\n",
        "df = pd.DataFrame(dados)\n",
        "\n",
        "# Filtra quem possui mais de 25 anos\n",
        "filtro = df[df['idade'] > 25]\n",
        "\n",
        "# Calcula a média dos salários\n",
        "media_salarios = filtro['salario'].mean()\n",
        "\n",
        "print(\"Funcionários com mais de 25 anos:\")\n",
        "print(filtro)\n",
        "print(\"\\nMédia dos salários:\", media_salarios)\n"
      ],
      "metadata": {
        "id": "qR0-CS7edFmN",
        "colab": {
          "base_uri": "https://localhost:8080/"
        },
        "outputId": "edba6b3e-1259-4d2e-c9e0-560a3b67eae2"
      },
      "execution_count": 11,
      "outputs": [
        {
          "output_type": "stream",
          "name": "stdout",
          "text": [
            "Funcionários com mais de 25 anos:\n",
            "      nome  idade  salario\n",
            "1    Bruno     29     4200\n",
            "2   Carlos     35     5300\n",
            "3  Daniela     27     3100\n",
            "\n",
            "Média dos salários: 4200.0\n"
          ]
        }
      ]
    },
    {
      "cell_type": "markdown",
      "source": [
        "**Questão 3:**\n",
        "\n",
        "Escreva um programa em Python que, dado um número n, imprima uma pirâmide numérica com n linhas."
      ],
      "metadata": {
        "id": "5Ew5ZJBBdi2p"
      }
    },
    {
      "cell_type": "code",
      "source": [
        "\n",
        "n = int(input(\"Digite o número de linhas: \"))\n",
        "\n",
        "# Gera a pirâmide\n",
        "for i in range(1, n + 1):\n",
        "    for j in range(1, i + 1):\n",
        "        print(j, end='')\n",
        "    print()  # Quebra de linha\n"
      ],
      "metadata": {
        "id": "rP4SGubwd6DW",
        "colab": {
          "base_uri": "https://localhost:8080/"
        },
        "outputId": "f563a7a5-6248-4f3b-802a-94f3076dfe13"
      },
      "execution_count": 12,
      "outputs": [
        {
          "output_type": "stream",
          "name": "stdout",
          "text": [
            "Digite o número de linhas: 6\n",
            "1\n",
            "12\n",
            "123\n",
            "1234\n",
            "12345\n",
            "123456\n"
          ]
        }
      ]
    },
    {
      "cell_type": "markdown",
      "source": [
        "**questão 4:**\n",
        "\n",
        "Crie uma função que eu passe um CEP e me retorne a rua, bairro e cidade.\n",
        "\n",
        "Dica - utilize: viacep.com.br/ws/01001000/json/"
      ],
      "metadata": {
        "id": "z1BD50OFe41W"
      }
    },
    {
      "cell_type": "code",
      "source": [
        "import requests  # biblioteca para fazer requisições HTTP\n",
        "\n",
        "def buscar_endereco(cep):\n",
        "    url = f\"https://viacep.com.br/ws/{cep}/json/\"\n",
        "    resposta = requests.get(url)\n",
        "\n",
        "    if resposta.status_code == 200:\n",
        "        dados = resposta.json()\n",
        "        rua = dados.get('logradouro', 'Não encontrado')\n",
        "        bairro = dados.get('bairro', 'Não encontrado')\n",
        "        cidade = dados.get('localidade', 'Não encontrado')\n",
        "        return rua, bairro, cidade\n",
        "    else:\n",
        "        return None, None, None\n",
        "\n",
        "# Exemplo de uso\n",
        "cep = \"01001000\"\n",
        "rua, bairro, cidade = buscar_endereco(cep)\n",
        "\n",
        "print(f\"CEP: {cep}\")\n",
        "print(f\"Rua: {rua}\")\n",
        "print(f\"Bairro: {bairro}\")\n",
        "print(f\"Cidade: {cidade}\")\n"
      ],
      "metadata": {
        "id": "b4HOrvPJe6-h",
        "colab": {
          "base_uri": "https://localhost:8080/"
        },
        "outputId": "8433c028-db8b-4bd1-860e-3327898cd3b5"
      },
      "execution_count": 13,
      "outputs": [
        {
          "output_type": "stream",
          "name": "stdout",
          "text": [
            "CEP: 01001000\n",
            "Rua: Praça da Sé\n",
            "Bairro: Sé\n",
            "Cidade: São Paulo\n"
          ]
        }
      ]
    }
  ]
}